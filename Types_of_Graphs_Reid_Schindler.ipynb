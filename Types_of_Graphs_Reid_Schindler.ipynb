{
  "nbformat": 4,
  "nbformat_minor": 0,
  "metadata": {
    "colab": {
      "name": "Types of Graphs - Reid Schindler",
      "provenance": [],
      "include_colab_link": true
    },
    "kernelspec": {
      "name": "python3",
      "display_name": "Python 3"
    }
  },
  "cells": [
    {
      "cell_type": "markdown",
      "metadata": {
        "id": "view-in-github",
        "colab_type": "text"
      },
      "source": [
        "<a href=\"https://colab.research.google.com/github/reidschindler/Lab1Precipitation/blob/master/Types_of_Graphs_Reid_Schindler.ipynb\" target=\"_parent\"><img src=\"https://colab.research.google.com/assets/colab-badge.svg\" alt=\"Open In Colab\"/></a>"
      ]
    },
    {
      "cell_type": "markdown",
      "metadata": {
        "id": "6sOc4Uyr4U-Z",
        "colab_type": "text"
      },
      "source": [
        "## Graph Types"
      ]
    },
    {
      "cell_type": "markdown",
      "metadata": {
        "id": "0zZdVLAd5CYr",
        "colab_type": "text"
      },
      "source": [
        "Creator\n",
        "* Reid Schindler"
      ]
    },
    {
      "cell_type": "markdown",
      "metadata": {
        "id": "g-r6Clq45Hn4",
        "colab_type": "text"
      },
      "source": [
        "### Deviation\n"
      ]
    },
    {
      "cell_type": "markdown",
      "metadata": {
        "colab_type": "text",
        "id": "DDewYIHf0Dpi"
      },
      "source": [
        "![alt text](https://raw.githubusercontent.com/reidschindler/SRA268-Spring-2020/master/Screen%20Shot%202020-02-20%20at%201.09.51%20PM.png)"
      ]
    },
    {
      "cell_type": "markdown",
      "metadata": {
        "id": "w6bZ_NEi7E3w",
        "colab_type": "text"
      },
      "source": [
        "#### What is this telling us?"
      ]
    },
    {
      "cell_type": "markdown",
      "metadata": {
        "id": "95L-spaC7QHF",
        "colab_type": "text"
      },
      "source": [
        "The above graph is a deviation graph.  A deviation graph emphasizes variation based on a fixed point. In this case, the fixed point that I used in my deviation graph is the average which is represented by the middle line located at 0 on the y-axis. My graph shows the points scored by each team, each year. The colors on the graph are showing how positive or how negative each year was. The farther away from the average on the negative side, the more red it gets. The farther away from the average on the positive side, the darker the blue. "
      ]
    },
    {
      "cell_type": "markdown",
      "metadata": {
        "id": "YgXyXjmz7cDP",
        "colab_type": "text"
      },
      "source": [
        "### Correlation\n"
      ]
    },
    {
      "cell_type": "markdown",
      "metadata": {
        "id": "SGx15rZq7hvt",
        "colab_type": "text"
      },
      "source": [
        "![alt text](https://raw.githubusercontent.com/reidschindler/SRA268-Spring-2020/master/Screen%20Shot%202020-02-20%20at%201.11.34%20PM.png)"
      ]
    },
    {
      "cell_type": "markdown",
      "metadata": {
        "id": "dljjONNi7jmj",
        "colab_type": "text"
      },
      "source": [
        "#### What is this telling us?"
      ]
    },
    {
      "cell_type": "markdown",
      "metadata": {
        "id": "PwZEZrFB7laG",
        "colab_type": "text"
      },
      "source": [
        "The above graph is a correlation graph.  A correlation graph shows the relationship between two or more points. My correlation graph is comparing the relationship between the win points of each team and the lose points of each team, along with the respective academic year. Since the win points and the lose points both share an axis, I decided to use colors to compare the two. The lose points are shown in blue and the win points in orange. As we can see, the win points are higher than the lose points for each academic year with some being closer in value than others. "
      ]
    },
    {
      "cell_type": "markdown",
      "metadata": {
        "id": "MqUdI-uL7r2s",
        "colab_type": "text"
      },
      "source": [
        "### Ranking\n"
      ]
    },
    {
      "cell_type": "markdown",
      "metadata": {
        "id": "AvlxCOVt7x9F",
        "colab_type": "text"
      },
      "source": [
        "![alt text](https://raw.githubusercontent.com/reidschindler/SRA268-Spring-2020/master/Screen%20Shot%202020-02-20%20at%201.12.01%20PM.png)"
      ]
    },
    {
      "cell_type": "markdown",
      "metadata": {
        "id": "lCAYtfza7yTq",
        "colab_type": "text"
      },
      "source": [
        "#### What is this telling us?"
      ]
    },
    {
      "cell_type": "markdown",
      "metadata": {
        "id": "MyuciD277ygU",
        "colab_type": "text"
      },
      "source": [
        "The above graph is a ranking graph. A ranking graph highlights the position of our data relative to another. In my ranking graph, it displays the sum of the win points for each academic year. The sum of the win points are on the y-axis while the academic year is on the x-axis. The ranking of the sum of the win points for each academic year is ordered in ascending order, meaning the lowest first, 1984 and the highest all the way to the right, 1998. As we can see there is no specific relationship between the win points and the academic year. \n"
      ]
    },
    {
      "cell_type": "markdown",
      "metadata": {
        "id": "dGDGl8-G7y8Y",
        "colab_type": "text"
      },
      "source": [
        "### Distribution\n"
      ]
    },
    {
      "cell_type": "markdown",
      "metadata": {
        "id": "FB0uV-jy76p9",
        "colab_type": "text"
      },
      "source": [
        "![alt text](https://raw.githubusercontent.com/reidschindler/SRA268-Spring-2020/master/Screen%20Shot%202020-02-20%20at%201.12.44%20PM.png)"
      ]
    },
    {
      "cell_type": "markdown",
      "metadata": {
        "id": "_6SOzhrQ76zH",
        "colab_type": "text"
      },
      "source": [
        "#### What is this telling us?"
      ]
    },
    {
      "cell_type": "markdown",
      "metadata": {
        "id": "HBWqsS_g767h",
        "colab_type": "text"
      },
      "source": [
        "The above graph is a distribution graph. A distribution graph shows the values of the data set and how often they occur. “Skew” or shape-ness can help highlight patterns in the data. Different types of skewness can occur in data, such as data that leans toward one side of the graph compared to the other. In my distribution graph, the data is quite symmetrical, meaning the median and the mean are very close together in value. In my distribution graph, we are taking a count of the win points which means we are taking all of the same values that are recurring and putting them into one category. \n"
      ]
    },
    {
      "cell_type": "markdown",
      "metadata": {
        "id": "wQsDThk677Fy",
        "colab_type": "text"
      },
      "source": [
        "### Change over Time\n"
      ]
    },
    {
      "cell_type": "markdown",
      "metadata": {
        "id": "Z1j_YLOA7_OK",
        "colab_type": "text"
      },
      "source": [
        "![alt text](https://raw.githubusercontent.com/reidschindler/SRA268-Spring-2020/master/Screen%20Shot%202020-02-20%20at%201.13.26%20PM.png)"
      ]
    },
    {
      "cell_type": "markdown",
      "metadata": {
        "id": "mpfsmmgi7_Vj",
        "colab_type": "text"
      },
      "source": [
        "#### What is this telling us?"
      ]
    },
    {
      "cell_type": "markdown",
      "metadata": {
        "id": "rYLXoMMO7_di",
        "colab_type": "text"
      },
      "source": [
        "The above graph is a change over time graph. A change over time graph simply shows a trend of the data in graph form. This type of trend can be represented by a few different things but is commonly seen as a line. In my change over time graph, I used a line that changes colors depending on how far it goes away from the average. In my change over time graph, I am comparing the sum of the win points and the academic year. The line shows how the total number of points fluctuates in their respective academic year.  "
      ]
    },
    {
      "cell_type": "markdown",
      "metadata": {
        "id": "lFwiHoE-7_jZ",
        "colab_type": "text"
      },
      "source": [
        "### Magnitude\n"
      ]
    },
    {
      "cell_type": "markdown",
      "metadata": {
        "id": "ICQFnXj78EbF",
        "colab_type": "text"
      },
      "source": [
        "![alt text](https://raw.githubusercontent.com/reidschindler/SRA268-Spring-2020/master/Screen%20Shot%202020-02-20%20at%201.13.49%20PM.png)"
      ]
    },
    {
      "cell_type": "markdown",
      "metadata": {
        "id": "QGG7XYG88Eii",
        "colab_type": "text"
      },
      "source": [
        "#### What is this telling us?"
      ]
    },
    {
      "cell_type": "markdown",
      "metadata": {
        "id": "VS7uGa0l8Eos",
        "colab_type": "text"
      },
      "source": [
        "The above graph is a magnitude graph. A magnitude graph shows a comparison of the data and the data is usually binned. Binned means the data is grouped into equal sizes or intervals. This graph essentially looks like a bar graph and can have similar characteristics to it. In my magnitude graph, I used differing colors to show the magnitude of the total win points for each academic year. The higher the magnitude, the darker the red and the lower the magnitude, the lighter the red. One rule for a magnitude graph is that the axis must always start on 0. \n"
      ]
    },
    {
      "cell_type": "markdown",
      "metadata": {
        "id": "bEKFxP8R8Evk",
        "colab_type": "text"
      },
      "source": [
        "### Part-to-Whole\n"
      ]
    },
    {
      "cell_type": "markdown",
      "metadata": {
        "id": "WFHlcYKV8E35",
        "colab_type": "text"
      },
      "source": [
        "![alt text](https://raw.githubusercontent.com/reidschindler/SRA268-Spring-2020/master/Screen%20Shot%202020-02-20%20at%201.14.13%20PM.png)"
      ]
    },
    {
      "cell_type": "markdown",
      "metadata": {
        "id": "PNSd3wlp8UZH",
        "colab_type": "text"
      },
      "source": [
        "#### What is this telling us?"
      ]
    },
    {
      "cell_type": "markdown",
      "metadata": {
        "id": "y9tb_QRA8aqt",
        "colab_type": "text"
      },
      "source": [
        "The above graph is a part-to-whole graph. A part-to-whole graph Showing individual entities in the data, as relates to all other single entities. Creating the complete picture. In my part-to-whole graph, I used a pie chart or pie graph, which is a circle with different sized semi-circles that complete the larger circle. The graph also utilizes different color schemes to represent different categories of data. In this case the different colors represent the days of the week. As we can see, depending on the quantity of the data, the larger the semi-circle inside of the larger one will be. In my graph we can tell that Thursday and Friday are some of the larger quantities of data. \n"
      ]
    }
  ]
}