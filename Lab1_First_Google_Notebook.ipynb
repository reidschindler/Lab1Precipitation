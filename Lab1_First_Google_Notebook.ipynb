{
  "nbformat": 4,
  "nbformat_minor": 0,
  "metadata": {
    "colab": {
      "name": "Lab1-First Google Notebook.ipynb",
      "provenance": [],
      "collapsed_sections": [],
      "toc_visible": true,
      "authorship_tag": "ABX9TyNeKjs6WQffXfhbrpE1jLAq",
      "include_colab_link": true
    },
    "kernelspec": {
      "name": "python3",
      "display_name": "Python 3"
    }
  },
  "cells": [
    {
      "cell_type": "markdown",
      "metadata": {
        "id": "view-in-github",
        "colab_type": "text"
      },
      "source": [
        "<a href=\"https://colab.research.google.com/github/reidschindler/Lab1Precipitation/blob/master/Lab1_First_Google_Notebook.ipynb\" target=\"_parent\"><img src=\"https://colab.research.google.com/assets/colab-badge.svg\" alt=\"Open In Colab\"/></a>"
      ]
    },
    {
      "cell_type": "markdown",
      "metadata": {
        "id": "fja68hLxLiWL",
        "colab_type": "text"
      },
      "source": [
        "# 1.Precipitation in 2017 vs. 2018 "
      ]
    },
    {
      "cell_type": "markdown",
      "metadata": {
        "id": "g9TiMuI8LuOs",
        "colab_type": "text"
      },
      "source": [
        "# 2.Outline\n",
        "I will be looking at the average amount of precipitation for the first 7 days in April in the years 2017 and 2018. With climate change being a relevant topic in the media recently, I will look to see if there is a large difference in the average amount of precipitation between the two years. Using my prior knowledge and the data collected, I will compare these two weeks knowing this is usually when the most precipitation happens. "
      ]
    },
    {
      "cell_type": "markdown",
      "metadata": {
        "id": "GGZQCUBcLzWJ",
        "colab_type": "text"
      },
      "source": [
        "# 3.Graph\n",
        "![alt text](https://raw.githubusercontent.com/reidschindler/Lab1Precipitation/master/fullsizeoutput_6.jpeg)"
      ]
    },
    {
      "cell_type": "markdown",
      "metadata": {
        "id": "d4guC86oMEvw",
        "colab_type": "text"
      },
      "source": [
        "# 4.Conclusion\n",
        "From looking at the data, and the graph I can see that there was a pretty large difference between the first seven days of April of those years. In 2017, there was .296 inches per day of precipitation while in 2018, there was only .166 inches per day. We can see that 2017 had almost double the amount of precipitation than 2018. We can't however say that climate change caused this change. It could have been caused by other factors or just by chance. "
      ]
    }
  ]
}